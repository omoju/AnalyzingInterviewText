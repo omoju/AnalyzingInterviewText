{
 "cells": [
  {
   "cell_type": "markdown",
   "metadata": {},
   "source": [
    "## Get email address\n",
    "\n",
    "Based on survey data, some participants had indicated their willingness to be interviewed by providing their names. My task as the data scientist was to go and figure out their email addresses so that they could be interviewed.\n",
    "\n",
    "### To do this:\n",
    "- Limit the search to participants who had decided to public share their emails on the UC Berkeley campus directory\n",
    "- For each candidate, create the appropriate url for their profile\n",
    "- Parse out their emails and write the results to a file"
   ]
  },
  {
   "cell_type": "code",
   "execution_count": null,
   "metadata": {
    "collapsed": false
   },
   "outputs": [],
   "source": [
    "from BeautifulSoup import BeautifulSoup\n",
    "from pandas import DataFrame\n",
    "# (*) Pandas for data manipulation\n",
    "import pandas as pd \n",
    "import numpy as np\n",
    "import urllib, urlparse\n",
    "import urllib2\n",
    "import csv"
   ]
  },
  {
   "cell_type": "code",
   "execution_count": null,
   "metadata": {
    "collapsed": false
   },
   "outputs": [],
   "source": [
    "# Read csv file and define dataframe object\n",
    "df  =   pd.read_csv('interview_subjects_CS10_Spring.csv')\n",
    "df.columns = ['name','gender']\n",
    "df = df.dropna(subset=['name'], how='all') #drop rows with no names\n",
    "\n",
    "\n",
    "\n"
   ]
  },
  {
   "cell_type": "code",
   "execution_count": null,
   "metadata": {
    "collapsed": false
   },
   "outputs": [],
   "source": [
    "# Create individuals UCB directory profile link\n",
    "# Store it in variable the_urls\n",
    "\n",
    "url= 'http://www.berkeley.edu/directory/results?search-term='\n",
    "#Omoju+Miller'\n",
    "name = ''\n",
    "temp = []\n",
    "the_urls = []\n",
    "\n",
    "for i, row in df.iterrows():\n",
    "    x = row.values[0].split()\n",
    "    if len(x)>1:\n",
    "        name = '+'.join(x)\n",
    "        temp.append(row.values[1])\n",
    "        temp.append(row.values[0])\n",
    "        temp.append(url+name)\n",
    "        the_urls.append(temp)\n",
    "        temp = []\n",
    "    \n"
   ]
  },
  {
   "cell_type": "code",
   "execution_count": null,
   "metadata": {
    "collapsed": false
   },
   "outputs": [],
   "source": [
    "# Using Beautiful Soup parse out their emails\n",
    "# Write the data out to a file\n",
    "\n",
    "email = []\n",
    "\n",
    "f = open('subject_email.csv', 'wt')\n",
    "try:\n",
    "    writer = csv.writer(f)\n",
    "    for gender, name, url in the_urls:\n",
    "        page = urllib2.urlopen(url)\n",
    "        soup = BeautifulSoup(page.read())\n",
    "        for anchor in soup.fetch('a'):\n",
    "            url = anchor.get('href')\n",
    "            #if url is None or url in seen: continue\n",
    "            #seen.add(url)\n",
    "            pieces = urlparse.urlparse(url)\n",
    "            if pieces[0]=='mailto':\n",
    "                writer.writerow( (gender, name, pieces[2]) )\n",
    "                print name, pieces[2]\n",
    "                email.append(pieces[2])\n",
    "finally:\n",
    "    f.close()\n"
   ]
  }
 ],
 "metadata": {
  "kernelspec": {
   "display_name": "Python 2",
   "language": "python",
   "name": "python2"
  },
  "language_info": {
   "codemirror_mode": {
    "name": "ipython",
    "version": 2
   },
   "file_extension": ".py",
   "mimetype": "text/x-python",
   "name": "python",
   "nbconvert_exporter": "python",
   "pygments_lexer": "ipython2",
   "version": "2.7.11"
  }
 },
 "nbformat": 4,
 "nbformat_minor": 0
}
