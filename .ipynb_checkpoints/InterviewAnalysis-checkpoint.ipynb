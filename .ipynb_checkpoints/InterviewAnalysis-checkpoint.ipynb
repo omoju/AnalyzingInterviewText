{
 "cells": [
  {
   "cell_type": "code",
   "execution_count": null,
   "metadata": {
    "collapsed": true
   },
   "outputs": [],
   "source": [
    "import matplotlib.pyplot as plt\n",
    "import matplotlib.mlab as mlab\n",
    "import numpy as np\n"
   ]
  },
  {
   "cell_type": "code",
   "execution_count": null,
   "metadata": {
    "collapsed": true
   },
   "outputs": [],
   "source": [
    "from pandas import DataFrame\n",
    "# (*) Pandas for data manipulation\n",
    "import pandas as pd "
   ]
  },
  {
   "cell_type": "code",
   "execution_count": null,
   "metadata": {
    "collapsed": false
   },
   "outputs": [],
   "source": [
    "df = pd.read_csv('Data/InterviewDataResponses.csv')"
   ]
  },
  {
   "cell_type": "code",
   "execution_count": null,
   "metadata": {
    "collapsed": false
   },
   "outputs": [],
   "source": [
    "df.columns =  [\n",
    "'timestamp',\n",
    "'howLearnComp',\n",
    "'negAspectComp',\n",
    "'dataLab',\n",
    "'magicWand',\n",
    "'csCourseFuture',\n",
    "'currFactor',\n",
    "'changeThoughtBerkeley',\n",
    "'changePerceptnCS',\n",
    "'funAspectClass',\n",
    "'unfunAspectClass',\n",
    "'respectCourseStaff',\n",
    "'courseCulture61A',\n",
    "'changeThoughtBerkeley2',\n",
    "'moreCSClasses',\n",
    "'perceptStudyCSChange',\n",
    "'feelMinorityCS',\n",
    "'whatFirstBroughtCourseAttention',\n",
    "'reservationTakingClass',\n",
    "'probStudyCS',\n",
    "'relationshipProgrammerScientist',\n",
    "'comptThink',\n",
    "'enjoyCourse',\n",
    "'enjoyProbSolv',\n",
    "'priorCSbeforeClass',\n",
    "'academicStrenghts',\n",
    "'otherAcademicInterest',\n",
    "'majorBerkeley',\n",
    "'answerDiff',\n",
    "'strengthCS',\n",
    "'coolestAspectCS',\n",
    "'thinkSomeOneCSDo',\n",
    "'benefitStudyCS',\n",
    "'theName',\n",
    "'gender',\n",
    "'priorExposureToCS',\n",
    "'cs10',\n",
    "'cs61A',\n",
    "'race',\n",
    "'acadClass',\n",
    "'experienceSnap',\n",
    "'anythingLikeToShare',\n",
    "'extra',\n",
    "'expectGetOutOfCourse',\n",
    "'q_CT',\n",
    "'q2',\n",
    "'q3',\n",
    "'q4',\n",
    "'q5',\n",
    "'q6',\n",
    "'q7',\n",
    "'q8',\n",
    "'q9',\n",
    "'q10',\n",
    "'q11',\n",
    "'q12',\n",
    "'q13',\n",
    "'q14',\n",
    "'q15',\n",
    "'q16',\n",
    "'q17']\n"
   ]
  },
  {
   "cell_type": "code",
   "execution_count": null,
   "metadata": {
    "collapsed": false
   },
   "outputs": [],
   "source": [
    "for row, i in df.iterrows():\n",
    "    if i.race == 'white':\n",
    "        df.loc[row, 'race'] = 'WT'\n",
    "    elif i.race == 'White':\n",
    "        df.loc[row, 'race'] = 'WT'\n",
    "    elif i.race == 'black':\n",
    "        df.loc[row, 'race'] = 'BK'\n",
    "    elif i.race == 'Black':\n",
    "        df.loc[row, 'race'] = 'BK'\n",
    "    elif i.race == 'Asian':\n",
    "        df.loc[row, 'race'] = 'AS'\n",
    "   "
   ]
  },
  {
   "cell_type": "code",
   "execution_count": null,
   "metadata": {
    "collapsed": false,
    "scrolled": false
   },
   "outputs": [],
   "source": [
    "names = df.columns.values\n",
    "for name in names:\n",
    "    print name"
   ]
  },
  {
   "cell_type": "code",
   "execution_count": null,
   "metadata": {
    "collapsed": false
   },
   "outputs": [],
   "source": [
    "f = open('interviewText.txt', 'wt')\n",
    "try:\n",
    "    for label in df.columns:\n",
    "        #f.write(label+\"\\n\\n\")\n",
    "        #print df.columns\n",
    "        for row, columns in df.iterrows():\n",
    "            f.write(\"%s %s \\\\n \\n\" % (columns.theName, columns[label]))\n",
    "finally:\n",
    "    f.close()"
   ]
  }
 ],
 "metadata": {
  "kernelspec": {
   "display_name": "Python 2",
   "language": "python",
   "name": "python2"
  },
  "language_info": {
   "codemirror_mode": {
    "name": "ipython",
    "version": 2
   },
   "file_extension": ".py",
   "mimetype": "text/x-python",
   "name": "python",
   "nbconvert_exporter": "python",
   "pygments_lexer": "ipython2",
   "version": "2.7.11"
  }
 },
 "nbformat": 4,
 "nbformat_minor": 0
}
